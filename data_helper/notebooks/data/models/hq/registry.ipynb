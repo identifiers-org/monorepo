{
 "cells": [
  {
   "cell_type": "code",
   "execution_count": null,
   "metadata": {},
   "outputs": [],
   "source": [
    "# HQ Registry Data Model\n",
    "# Author: Manuel Bernal Llinares <mbdebian@gmail.com>\n",
    "\n",
    "class Institution:\n",
    "    def __init__(self):\n",
    "        self.id = None\n",
    "        self.name = None\n",
    "        self.description = None\n",
    "        \n",
    "        \n",
    "class Location:\n",
    "    def __init__(self):\n",
    "        self.id = None\n",
    "        self.countryCode = None\n",
    "\n",
    "\n",
    "class Namespace:\n",
    "    def __init__(self):\n",
    "        self.id = None\n",
    "        self.prefix = None\n",
    "        self.mirId = None\n",
    "        self.name = None\n",
    "        self.pattern = None\n",
    "        self.description = None\n",
    "        self.created = None\n",
    "        self.modified = None\n",
    "        self.deprecated = None\n",
    "        self.deprecationDate = None\n",
    "        # DBRef\n",
    "        self.resources = []\n",
    "        # DBRef\n",
    "        self.namespaceSynonmyns = []"
   ]
  }
 ],
 "metadata": {
  "kernelspec": {
   "display_name": "Python 3",
   "language": "python",
   "name": "python3"
  },
  "language_info": {
   "codemirror_mode": {
    "name": "ipython",
    "version": 3
   },
   "file_extension": ".py",
   "mimetype": "text/x-python",
   "name": "python",
   "nbconvert_exporter": "python",
   "pygments_lexer": "ipython3",
   "version": "3.6.6"
  }
 },
 "nbformat": 4,
 "nbformat_minor": 2
}
