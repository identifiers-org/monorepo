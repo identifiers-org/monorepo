{
 "cells": [
  {
   "cell_type": "code",
   "execution_count": 4,
   "metadata": {},
   "outputs": [
    {
     "name": "stderr",
     "output_type": "stream",
     "text": [
      "/Users/mbernal/clasificador/work/src/code_repos/identifiers.org-hq/cloud-hq-ws-registry/data_helper/python_install/lib/python3.6/site-packages/matplotlib/font_manager.py:229: UserWarning: Matplotlib is building the font cache using fc-list. This may take a moment.\n",
      "  'Matplotlib is building the font cache using fc-list. '\n"
     ]
    }
   ],
   "source": [
    "# This Helper fetches de resolver dataset from the EBI identifiers.org platform, to transform it and put it into\n",
    "# the new MongoDB based data backend.\n",
    "# Author: Manuel Bernal Llinares <mbdebian@gmail.com>\n",
    "import time\n",
    "import random\n",
    "import requests\n",
    "import threading\n",
    "import matplotlib.pyplot as plt\n",
    "\n",
    "%matplotlib inline"
   ]
  },
  {
   "cell_type": "code",
   "execution_count": 5,
   "metadata": {},
   "outputs": [],
   "source": [
    "# Set up the environment\n",
    "identifiersorg_url_resolver_data_source = 'https://identifiers.org/rest/collections/expand'"
   ]
  },
  {
   "cell_type": "code",
   "execution_count": 6,
   "metadata": {},
   "outputs": [],
   "source": [
    "# Helpers\n",
    "def make_rest_request_content_type_json(url):\n",
    "    # TODO - Magic number here!!!\n",
    "    n_attempts = 42\n",
    "    response = None\n",
    "    while n_attempts:\n",
    "        n_attempts -= 1\n",
    "        try:\n",
    "            response = requests.get(url, headers={\"Content-Type\": \"application/json\"})\n",
    "        except Exception as e:\n",
    "            # Any possible exception counts towards the attempt counter\n",
    "            # Random wait - TODO - Another magic number!!!\n",
    "            time.sleep(random.randint(30))\n",
    "            continue\n",
    "        if response.ok:\n",
    "            return response.json()\n",
    "        # Random wait - TODO - Another magic number!!!\n",
    "        time.sleep(random.randint(10))\n",
    "    response.raise_for_status()"
   ]
  },
  {
   "cell_type": "code",
   "execution_count": 7,
   "metadata": {},
   "outputs": [],
   "source": [
    "# Initialise pseudo-random number generator\n",
    "random.seed(time.time())"
   ]
  },
  {
   "cell_type": "code",
   "execution_count": null,
   "metadata": {},
   "outputs": [],
   "source": []
  }
 ],
 "metadata": {
  "kernelspec": {
   "display_name": "Python 3",
   "language": "python",
   "name": "python3"
  },
  "language_info": {
   "codemirror_mode": {
    "name": "ipython",
    "version": 3
   },
   "file_extension": ".py",
   "mimetype": "text/x-python",
   "name": "python",
   "nbconvert_exporter": "python",
   "pygments_lexer": "ipython3",
   "version": "3.6.6"
  }
 },
 "nbformat": 4,
 "nbformat_minor": 2
}
