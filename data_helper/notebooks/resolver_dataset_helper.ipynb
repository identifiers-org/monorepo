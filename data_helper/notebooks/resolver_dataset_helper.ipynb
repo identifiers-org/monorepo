{
 "cells": [
  {
   "cell_type": "code",
   "execution_count": null,
   "metadata": {},
   "outputs": [],
   "source": [
    "# This Helper fetches de resolver dataset from the EBI identifiers.org platform, to transform it and put it into\n",
    "# the new MongoDB based data backend.\n",
    "# Author: Manuel Bernal Llinares <mbdebian@gmail.com>\n",
    "import time\n",
    "import random\n",
    "import pymongo\n",
    "import requests\n",
    "import threading\n",
    "import matplotlib.pyplot as plt\n",
    "import data.models.hq.registry as hqregistry\n",
    "\n",
    "%matplotlib inline"
   ]
  },
  {
   "cell_type": "code",
   "execution_count": null,
   "metadata": {},
   "outputs": [],
   "source": [
    "# Set up the environment\n",
    "identifiersorg_url_resolver_data_source = 'https://identifiers.org/rest/collections/expand'\n",
    "# TODO Maybe get this from environment variables later on when everything is working\n",
    "mongodb_username = 'devusername'\n",
    "mongodb_password = 'devpassword'\n",
    "mongodb_database = 'devdbregistry'\n",
    "mongodb_endpoint = 'mongodb://localhost:27017'\n",
    "mongodb_authendpoint = \"mongodb://{}:{}@localhost:27017\".format(mongodb_username, mongodb_password)"
   ]
  },
  {
   "cell_type": "code",
   "execution_count": null,
   "metadata": {},
   "outputs": [],
   "source": [
    "# Helpers\n",
    "def make_rest_request_content_type_json(url):\n",
    "    # TODO - Magic number here!!!\n",
    "    n_attempts = 42\n",
    "    response = None\n",
    "    while n_attempts:\n",
    "        n_attempts -= 1\n",
    "        try:\n",
    "            response = requests.get(url, headers={\"Content-Type\": \"application/json\"})\n",
    "        except Exception as e:\n",
    "            # Any possible exception counts towards the attempt counter\n",
    "            # Random wait - TODO - Another magic number!!!\n",
    "            time.sleep(random.randint(30))\n",
    "            continue\n",
    "        if response.ok:\n",
    "            return response.json()\n",
    "        # Random wait - TODO - Another magic number!!!\n",
    "        time.sleep(random.randint(10))\n",
    "    response.raise_for_status()"
   ]
  },
  {
   "cell_type": "code",
   "execution_count": null,
   "metadata": {},
   "outputs": [],
   "source": [
    "# Initialise pseudo-random number generator\n",
    "random.seed(time.time())"
   ]
  },
  {
   "cell_type": "code",
   "execution_count": null,
   "metadata": {},
   "outputs": [],
   "source": [
    "# Preparing Database\n",
    "dbclient = pymongo.MongoClient(mongodb_authendpoint)\n",
    "print(\"---> DB Client instantiated\")\n",
    "dbregistry = dbclient(mongodb_database)\n",
    "print(\"\\tDatabases: {}\".format())"
   ]
  },
  {
   "cell_type": "code",
   "execution_count": null,
   "metadata": {},
   "outputs": [],
   "source": [
    "# Retrieve the Resolution Source dataset\n",
    "resolution_dataset_source = make_rest_request_content_type_json(identifiersorg_url_resolver_data_source)"
   ]
  },
  {
   "cell_type": "code",
   "execution_count": null,
   "metadata": {},
   "outputs": [],
   "source": [
    "# Process PID entries\n",
    "for pid_entry in resolution_dataset_source:\n",
    "    print(\"---> Processing Prefix '{}' - '{}'\".format(pid_entry['id'], pid_entry['prefix']))\n",
    "    # Translate PID Entry to Namespace model\n",
    "    namespace = hqregistry.Namespace()\n",
    "    namespace.prefix = pid_entry.get('prefix', None)\n",
    "    namespace.mirId = pid_entry.get('id', None)\n",
    "    namespace.name = pid_entry.get('name', None)\n",
    "    namespace.pattern = pid_entry.get('pattern', None)\n",
    "    namespace.description = pid_entry.get('definition', None)\n",
    "    # TODO creation and modification dates are missing from the dataset\n",
    "    # There is no deprecation date for now\n",
    "    # Flag all namespaces as 'NOT Deprecated' for now\n",
    "    namespace.deprecated = False"
   ]
  },
  {
   "cell_type": "code",
   "execution_count": null,
   "metadata": {},
   "outputs": [],
   "source": []
  }
 ],
 "metadata": {
  "kernelspec": {
   "display_name": "Python 3",
   "language": "python",
   "name": "python3"
  },
  "language_info": {
   "codemirror_mode": {
    "name": "ipython",
    "version": 3
   },
   "file_extension": ".py",
   "mimetype": "text/x-python",
   "name": "python",
   "nbconvert_exporter": "python",
   "pygments_lexer": "ipython3",
   "version": "3.6.6"
  }
 },
 "nbformat": 4,
 "nbformat_minor": 2
}
